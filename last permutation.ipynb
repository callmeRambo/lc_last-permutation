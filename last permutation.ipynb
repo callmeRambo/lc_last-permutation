{
 "cells": [
  {
   "cell_type": "code",
   "execution_count": 26,
   "metadata": {},
   "outputs": [
    {
     "name": "stdout",
     "output_type": "stream",
     "text": [
      "[2, 1]\n"
     ]
    },
    {
     "data": {
      "text/plain": [
       "[1, 2, 3]"
      ]
     },
     "execution_count": 26,
     "metadata": {},
     "output_type": "execute_result"
    }
   ],
   "source": [
    "class Solution:\n",
    "    def nextPermutation(self, nums):\n",
    "        \"\"\"\n",
    "        :type nums: List[int]\n",
    "        :rtype: void Do not return anything, modify nums in-place instead.\n",
    "        \"\"\"\n",
    "        for i in range (len(nums)-2,0,-1):\n",
    "            if (nums[i]<nums[i+1]):\n",
    "                for j in range (len(nums)-1,i,-1):\n",
    "                    if nums[i]<nums[j]:\n",
    "                        nums[i], nums[j] = nums[j], nums[i]\n",
    "                        a = nums[i+1:]\n",
    "                        a.reverse()\n",
    "                        nums[i+1:]=a\n",
    "                        return\n",
    "        nums.reverse()\n",
    "               \n",
    "nums = [1,2]\n",
    "Solution().nextPermutation(nums)\n",
    "print(nums)\n",
    "nums = [3,2,1]\n",
    "Solution().nextPermutation(nums)\n",
    "nums\n",
    "\n",
    "c++ version\n",
    "class Solution {\n",
    "public:\n",
    "    void nextPermutation(vector<int>& nums) {\n",
    "        int i = nums.size() - 1, k=i;    \n",
    "        while (i > 0 && nums[i-1] >= nums[i])\n",
    "            i--;\n",
    "        for (int j=i; j<k; j++, k--)\n",
    "            swap(nums[j], nums[k]);\n",
    "        if (i>0){\n",
    "            k = i--;\n",
    "        while (nums[k] <= nums[i])\n",
    "            k++;\n",
    "        swap(nums[i], nums[k]);\n",
    "        }\n",
    "    }\n",
    "};"
   ]
  }
 ],
 "metadata": {
  "kernelspec": {
   "display_name": "Python 3",
   "language": "python",
   "name": "python3"
  },
  "language_info": {
   "codemirror_mode": {
    "name": "ipython",
    "version": 3
   },
   "file_extension": ".py",
   "mimetype": "text/x-python",
   "name": "python",
   "nbconvert_exporter": "python",
   "pygments_lexer": "ipython3",
   "version": "3.5.2"
  }
 },
 "nbformat": 4,
 "nbformat_minor": 2
}
